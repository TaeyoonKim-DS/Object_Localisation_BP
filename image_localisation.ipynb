{
 "cells": [
  {
   "cell_type": "code",
   "execution_count": 2,
   "metadata": {},
   "outputs": [
    {
     "name": "stdout",
     "output_type": "stream",
     "text": [
      "Defaulting to user installation because normal site-packages is not writeable\n",
      "Collecting ultralytics\n",
      "  Downloading ultralytics-8.1.18-py3-none-any.whl (716 kB)\n",
      "\u001b[K     |████████████████████████████████| 716 kB 4.1 MB/s eta 0:00:01\n",
      "\u001b[?25hCollecting pillow>=7.1.2\n",
      "  Downloading pillow-10.2.0-cp39-cp39-macosx_11_0_arm64.whl (3.3 MB)\n",
      "\u001b[K     |████████████████████████████████| 3.3 MB 14.5 MB/s eta 0:00:01\n",
      "\u001b[?25hCollecting pyyaml>=5.3.1\n",
      "  Downloading PyYAML-6.0.1-cp39-cp39-macosx_11_0_arm64.whl (174 kB)\n",
      "\u001b[K     |████████████████████████████████| 174 kB 9.3 MB/s eta 0:00:01\n",
      "\u001b[?25hCollecting opencv-python>=4.6.0\n",
      "  Downloading opencv_python-4.9.0.80-cp37-abi3-macosx_11_0_arm64.whl (35.4 MB)\n",
      "\u001b[K     |████████████████████████████████| 35.4 MB 14.0 MB/s eta 0:00:01\n",
      "\u001b[?25hCollecting thop>=0.1.1\n",
      "  Downloading thop-0.1.1.post2209072238-py3-none-any.whl (15 kB)\n",
      "Collecting seaborn>=0.11.0\n",
      "  Downloading seaborn-0.13.2-py3-none-any.whl (294 kB)\n",
      "\u001b[K     |████████████████████████████████| 294 kB 20.3 MB/s eta 0:00:01\n",
      "\u001b[?25hCollecting torch>=1.8.0\n",
      "  Downloading torch-2.2.1-cp39-none-macosx_11_0_arm64.whl (59.7 MB)\n",
      "\u001b[K     |████████████████████████████████| 59.7 MB 19.1 MB/s eta 0:00:01     |████████████████▌               | 30.8 MB 18.6 MB/s eta 0:00:02\n",
      "\u001b[?25hCollecting pandas>=1.1.4\n",
      "  Downloading pandas-2.2.1-cp39-cp39-macosx_11_0_arm64.whl (11.3 MB)\n",
      "\u001b[K     |████████████████████████████████| 11.3 MB 18.7 MB/s eta 0:00:01\n",
      "\u001b[?25hCollecting torchvision>=0.9.0\n",
      "  Downloading torchvision-0.17.1-cp39-cp39-macosx_11_0_arm64.whl (1.6 MB)\n",
      "\u001b[K     |████████████████████████████████| 1.6 MB 15.1 MB/s eta 0:00:01\n",
      "\u001b[?25hRequirement already satisfied: psutil in /Users/taeyoonkim/Library/Python/3.9/lib/python/site-packages (from ultralytics) (5.9.4)\n",
      "Collecting matplotlib>=3.3.0\n",
      "  Downloading matplotlib-3.8.3-cp39-cp39-macosx_11_0_arm64.whl (7.5 MB)\n",
      "\u001b[K     |████████████████████████████████| 7.5 MB 17.0 MB/s eta 0:00:01\n",
      "\u001b[?25hCollecting py-cpuinfo\n",
      "  Downloading py_cpuinfo-9.0.0-py3-none-any.whl (22 kB)\n",
      "Requirement already satisfied: tqdm>=4.64.0 in /Users/taeyoonkim/Library/Python/3.9/lib/python/site-packages (from ultralytics) (4.64.1)\n",
      "Collecting scipy>=1.4.1\n",
      "  Downloading scipy-1.12.0-cp39-cp39-macosx_12_0_arm64.whl (31.4 MB)\n",
      "\u001b[K     |████████████████████████████████| 31.4 MB 1.7 MB/s eta 0:00:011\n",
      "\u001b[?25hCollecting requests>=2.23.0\n",
      "  Downloading requests-2.31.0-py3-none-any.whl (62 kB)\n",
      "\u001b[K     |████████████████████████████████| 62 kB 7.7 MB/s  eta 0:00:01\n",
      "\u001b[?25hCollecting kiwisolver>=1.3.1\n",
      "  Downloading kiwisolver-1.4.5-cp39-cp39-macosx_11_0_arm64.whl (66 kB)\n",
      "\u001b[K     |████████████████████████████████| 66 kB 12.2 MB/s eta 0:00:01\n",
      "\u001b[?25hRequirement already satisfied: python-dateutil>=2.7 in /Users/taeyoonkim/Library/Python/3.9/lib/python/site-packages (from matplotlib>=3.3.0->ultralytics) (2.8.2)\n",
      "Collecting fonttools>=4.22.0\n",
      "  Downloading fonttools-4.49.0-cp39-cp39-macosx_10_9_universal2.whl (2.8 MB)\n",
      "\u001b[K     |████████████████████████████████| 2.8 MB 18.1 MB/s eta 0:00:01\n",
      "\u001b[?25hCollecting cycler>=0.10\n",
      "  Downloading cycler-0.12.1-py3-none-any.whl (8.3 kB)\n",
      "Collecting importlib-resources>=3.2.0\n",
      "  Downloading importlib_resources-6.1.1-py3-none-any.whl (33 kB)\n",
      "Requirement already satisfied: packaging>=20.0 in /Users/taeyoonkim/Library/Python/3.9/lib/python/site-packages (from matplotlib>=3.3.0->ultralytics) (21.3)\n",
      "Requirement already satisfied: pyparsing>=2.3.1 in /Users/taeyoonkim/Library/Python/3.9/lib/python/site-packages (from matplotlib>=3.3.0->ultralytics) (3.0.9)\n",
      "Collecting numpy<2,>=1.21\n",
      "  Downloading numpy-1.26.4-cp39-cp39-macosx_11_0_arm64.whl (14.0 MB)\n",
      "\u001b[K     |████████████████████████████████| 14.0 MB 17.3 MB/s eta 0:00:01\n",
      "\u001b[?25hCollecting contourpy>=1.0.1\n",
      "  Downloading contourpy-1.2.0-cp39-cp39-macosx_11_0_arm64.whl (242 kB)\n",
      "\u001b[K     |████████████████████████████████| 242 kB 17.2 MB/s eta 0:00:01\n",
      "\u001b[?25hRequirement already satisfied: zipp>=3.1.0 in /Users/taeyoonkim/Library/Python/3.9/lib/python/site-packages (from importlib-resources>=3.2.0->matplotlib>=3.3.0->ultralytics) (3.10.0)\n",
      "Collecting tzdata>=2022.7\n",
      "  Downloading tzdata-2024.1-py2.py3-none-any.whl (345 kB)\n",
      "\u001b[K     |████████████████████████████████| 345 kB 25.5 MB/s eta 0:00:01\n",
      "\u001b[?25hCollecting pytz>=2020.1\n",
      "  Downloading pytz-2024.1-py2.py3-none-any.whl (505 kB)\n",
      "\u001b[K     |████████████████████████████████| 505 kB 16.1 MB/s eta 0:00:01\n",
      "\u001b[?25hRequirement already satisfied: six>=1.5 in /Library/Developer/CommandLineTools/Library/Frameworks/Python3.framework/Versions/3.9/lib/python3.9/site-packages (from python-dateutil>=2.7->matplotlib>=3.3.0->ultralytics) (1.15.0)\n",
      "Requirement already satisfied: idna<4,>=2.5 in /Users/taeyoonkim/Library/Python/3.9/lib/python/site-packages (from requests>=2.23.0->ultralytics) (3.4)\n",
      "Collecting certifi>=2017.4.17\n",
      "  Downloading certifi-2024.2.2-py3-none-any.whl (163 kB)\n",
      "\u001b[K     |████████████████████████████████| 163 kB 19.1 MB/s eta 0:00:01\n",
      "\u001b[?25hCollecting charset-normalizer<4,>=2\n",
      "  Downloading charset_normalizer-3.3.2-cp39-cp39-macosx_11_0_arm64.whl (120 kB)\n",
      "\u001b[K     |████████████████████████████████| 120 kB 21.0 MB/s eta 0:00:01\n",
      "\u001b[?25hCollecting urllib3<3,>=1.21.1\n",
      "  Downloading urllib3-2.2.1-py3-none-any.whl (121 kB)\n",
      "\u001b[K     |████████████████████████████████| 121 kB 16.0 MB/s eta 0:00:01\n",
      "\u001b[?25hCollecting filelock\n",
      "  Downloading filelock-3.13.1-py3-none-any.whl (11 kB)\n",
      "Collecting networkx\n",
      "  Downloading networkx-3.2.1-py3-none-any.whl (1.6 MB)\n",
      "\u001b[K     |████████████████████████████████| 1.6 MB 20.5 MB/s eta 0:00:01\n",
      "\u001b[?25hCollecting typing-extensions>=4.8.0\n",
      "  Downloading typing_extensions-4.9.0-py3-none-any.whl (32 kB)\n",
      "Collecting fsspec\n",
      "  Downloading fsspec-2024.2.0-py3-none-any.whl (170 kB)\n",
      "\u001b[K     |████████████████████████████████| 170 kB 14.6 MB/s eta 0:00:01\n",
      "\u001b[?25hCollecting sympy\n",
      "  Downloading sympy-1.12-py3-none-any.whl (5.7 MB)\n",
      "\u001b[K     |████████████████████████████████| 5.7 MB 14.4 MB/s eta 0:00:01\n",
      "\u001b[?25hRequirement already satisfied: jinja2 in /Users/taeyoonkim/Library/Python/3.9/lib/python/site-packages (from torch>=1.8.0->ultralytics) (3.1.2)\n",
      "Requirement already satisfied: MarkupSafe>=2.0 in /Users/taeyoonkim/Library/Python/3.9/lib/python/site-packages (from jinja2->torch>=1.8.0->ultralytics) (2.1.1)\n",
      "Collecting mpmath>=0.19\n",
      "  Downloading mpmath-1.3.0-py3-none-any.whl (536 kB)\n",
      "\u001b[K     |████████████████████████████████| 536 kB 19.2 MB/s eta 0:00:01\n",
      "\u001b[?25hInstalling collected packages: numpy, mpmath, tzdata, typing-extensions, sympy, pytz, pillow, networkx, kiwisolver, importlib-resources, fsspec, fonttools, filelock, cycler, contourpy, urllib3, torch, pandas, matplotlib, charset-normalizer, certifi, torchvision, thop, seaborn, scipy, requests, pyyaml, py-cpuinfo, opencv-python, ultralytics\n",
      "Successfully installed certifi-2024.2.2 charset-normalizer-3.3.2 contourpy-1.2.0 cycler-0.12.1 filelock-3.13.1 fonttools-4.49.0 fsspec-2024.2.0 importlib-resources-6.1.1 kiwisolver-1.4.5 matplotlib-3.8.3 mpmath-1.3.0 networkx-3.2.1 numpy-1.26.4 opencv-python-4.9.0.80 pandas-2.2.1 pillow-10.2.0 py-cpuinfo-9.0.0 pytz-2024.1 pyyaml-6.0.1 requests-2.31.0 scipy-1.12.0 seaborn-0.13.2 sympy-1.12 thop-0.1.1.post2209072238 torch-2.2.1 torchvision-0.17.1 typing-extensions-4.9.0 tzdata-2024.1 ultralytics-8.1.18 urllib3-2.2.1\n",
      "\u001b[33mWARNING: You are using pip version 21.2.4; however, version 24.0 is available.\n",
      "You should consider upgrading via the '/Library/Developer/CommandLineTools/usr/bin/python3 -m pip install --upgrade pip' command.\u001b[0m\n",
      "Note: you may need to restart the kernel to use updated packages.\n"
     ]
    }
   ],
   "source": [
    "pip install ultralytics"
   ]
  },
  {
   "cell_type": "code",
   "execution_count": 11,
   "metadata": {},
   "outputs": [],
   "source": [
    "# !git clone https://github.com/ultralytics/yolov5  # clone\n",
    "# %cd yolov5\n",
    "# %pip install -r requirements.txt  # install"
   ]
  },
  {
   "cell_type": "code",
   "execution_count": 13,
   "metadata": {},
   "outputs": [
    {
     "name": "stdout",
     "output_type": "stream",
     "text": [
      "/Users/taeyoonkim/Object_Localisation_BP/yolov5\n"
     ]
    }
   ],
   "source": [
    "!pwd\n"
   ]
  },
  {
   "cell_type": "code",
   "execution_count": 31,
   "metadata": {},
   "outputs": [
    {
     "name": "stderr",
     "output_type": "stream",
     "text": [
      "Using cache found in /Users/taeyoonkim/.cache/torch/hub/ultralytics_yolov5_master\n",
      "YOLOv5 🚀 2024-2-24 Python-3.9.6 torch-2.2.1 CPU\n",
      "\n",
      "Fusing layers... \n",
      "YOLOv5s summary: 213 layers, 7225885 parameters, 0 gradients, 16.4 GFLOPs\n",
      "Adding AutoShape... \n",
      "image 1/1: 2560x2560 1 person\n",
      "Speed: 57.8ms pre-process, 141.6ms inference, 0.7ms NMS per image at shape (1, 3, 640, 640)\n",
      "image 1/1: 2000x2000 1 cup\n",
      "Speed: 31.5ms pre-process, 128.1ms inference, 0.7ms NMS per image at shape (1, 3, 640, 640)\n",
      "image 1/1: 350x350 1 scissors\n",
      "Speed: 3.8ms pre-process, 127.8ms inference, 0.7ms NMS per image at shape (1, 3, 640, 640)\n"
     ]
    }
   ],
   "source": [
    "import torch\n",
    "from PIL import Image\n",
    "import os\n",
    "\n",
    "# 모델 로드\n",
    "model = torch.hub.load('ultralytics/yolov5', 'yolov5s', pretrained=True)\n",
    "\n",
    "# 이미지 로드\n",
    "\n",
    "folder_path = ['/Users/taeyoonkim/Object_Localisation_BP/images/image4.png',\n",
    "               '/Users/taeyoonkim/Object_Localisation_BP/images/image5.png',\n",
    "               '/Users/taeyoonkim/Object_Localisation_BP/images/image7.png']\n",
    "\n",
    "for img in folder_path:\n",
    "    # 객체 검출\n",
    "    results = model(img)\n",
    "    results.print()  \n",
    "\n",
    "    # 검출된 객체들의 좌표 가져오기\n",
    "    for *xyxy, conf, cls in results.xyxy[0]:\n",
    "        # 검출된 객체의 바운딩 박스 좌표\n",
    "        x_min, y_min, x_max, y_max = map(int, xyxy)\n",
    "\n",
    "        # 원본 이미지를 PIL 이미지로 로드\n",
    "        original_image = Image.open(img)\n",
    "\n",
    "        # 바운딩 박스에 해당하는 부분을 이미지에서 자르기\n",
    "        cropped_image = original_image.crop((x_min, y_min, x_max, y_max))\n",
    "\n",
    "        # 자른 이미지 저장\n",
    "        cropped_image.save(f'{img}_cropped.jpg')\n"
   ]
  },
  {
   "cell_type": "code",
   "execution_count": null,
   "metadata": {},
   "outputs": [],
   "source": [
    "# Show Original Image\n",
    "# Show Cropped Image"
   ]
  }
 ],
 "metadata": {
  "kernelspec": {
   "display_name": "Python 3",
   "language": "python",
   "name": "python3"
  },
  "language_info": {
   "codemirror_mode": {
    "name": "ipython",
    "version": 3
   },
   "file_extension": ".py",
   "mimetype": "text/x-python",
   "name": "python",
   "nbconvert_exporter": "python",
   "pygments_lexer": "ipython3",
   "version": "3.9.6"
  }
 },
 "nbformat": 4,
 "nbformat_minor": 2
}
