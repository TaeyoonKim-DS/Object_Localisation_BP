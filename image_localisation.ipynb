{
 "cells": [
  {
   "cell_type": "code",
   "execution_count": 3,
   "metadata": {
    "tags": []
   },
   "outputs": [],
   "source": [
    "pip install yolov5\n",
    "!pip uninstall opencv-python -y"
   ]
  },
  {
   "cell_type": "code",
   "execution_count": 3,
   "metadata": {
    "tags": []
   },
   "outputs": [
    {
     "name": "stdout",
     "output_type": "stream",
     "text": [
      "\u001b[33mWARNING: Skipping opencv-python-headless as it is not installed.\u001b[0m\n",
      "Collecting opencv-contrib-python-headless==4.9.0.80\n",
      "  Downloading opencv_contrib_python_headless-4.9.0.80-cp37-abi3-manylinux_2_17_x86_64.manylinux2014_x86_64.whl (55.7 MB)\n",
      "\u001b[K     |████████████████████████████████| 55.7 MB 5.2 MB/s eta 0:00:01\n",
      "\u001b[?25hRequirement already satisfied: numpy>=1.19.3 in /home/studio-lab-user/.conda/envs/default/lib/python3.9/site-packages (from opencv-contrib-python-headless==4.9.0.80) (1.26.4)\n",
      "Installing collected packages: opencv-contrib-python-headless\n",
      "Successfully installed opencv-contrib-python-headless-4.9.0.80\n"
     ]
    }
   ],
   "source": [
    "!pip uninstall opencv-python-headless -y\n",
    "!pip install opencv-contrib-python-headless==4.9.0.80"
   ]
  },
  {
   "cell_type": "code",
   "execution_count": 5,
   "metadata": {
    "tags": []
   },
   "outputs": [],
   "source": [
    "import cv2"
   ]
  },
  {
   "cell_type": "code",
   "execution_count": 8,
   "metadata": {
    "tags": []
   },
   "outputs": [
    {
     "name": "stdout",
     "output_type": "stream",
     "text": [
      "/home/studio-lab-user/taeyoonkim-ds/Object_Localisation_BP\n"
     ]
    }
   ],
   "source": [
    "!pwd"
   ]
  },
  {
   "cell_type": "code",
   "execution_count": 13,
   "metadata": {
    "tags": []
   },
   "outputs": [
    {
     "name": "stderr",
     "output_type": "stream",
     "text": [
      "Using cache found in /home/studio-lab-user/.cache/torch/hub/ultralytics_yolov5_master\n",
      "YOLOv5 🚀 2024-2-26 Python-3.9.16 torch-2.2.1+cu121 CPU\n",
      "\n",
      "Fusing layers... \n",
      "YOLOv5s summary: 213 layers, 7225885 parameters, 0 gradients, 16.4 GFLOPs\n",
      "Adding AutoShape... \n"
     ]
    }
   ],
   "source": [
    "import torch\n",
    "from PIL import Image\n",
    "\n",
    "# Model load\n",
    "model = torch.hub.load('ultralytics/yolov5', 'yolov5s', pretrained=True)\n",
    "\n",
    "# Image load\n",
    "folder_path = [\"/home/studio-lab-user/taeyoonkim-ds/Object_Localisation_BP/images/image2.png\",\n",
    "               \"/home/studio-lab-user/taeyoonkim-ds/Object_Localisation_BP/images/image4.png\",\n",
    "               \"/home/studio-lab-user/taeyoonkim-ds/Object_Localisation_BP/images/image5.png\",\n",
    "               \"/home/studio-lab-user/taeyoonkim-ds/Object_Localisation_BP/images/image6.png\",\n",
    "               \"/home/studio-lab-user/taeyoonkim-ds/Object_Localisation_BP/images/image7.png\"]\n",
    "\n",
    "# Cordination\n",
    "for img in folder_path:\n",
    "    image = img[-10:]\n",
    "    results = model(img)\n",
    "    for *xyxy, conf, cls in results.xyxy[0]:\n",
    "        x_min, y_min, x_max, y_max = map(int, xyxy)\n",
    "\n",
    "        # 원본 이미지를 PIL 이미지로 로드\n",
    "        original_image = Image.open(img)\n",
    "\n",
    "        # 바운딩 박스에 해당하는 부분을 이미지에서 자르기\n",
    "        cropped_image = original_image.crop((x_min, y_min, x_max, y_max))\n",
    "\n",
    "        # 자른 이미지 저장\n",
    "        cropped_image.save(f'cropped_{image}')\n"
   ]
  },
  {
   "cell_type": "markdown",
   "metadata": {},
   "source": [
    "# Visualising original image and cropped image"
   ]
  },
  {
   "cell_type": "code",
   "execution_count": 24,
   "metadata": {},
   "outputs": [],
   "source": [
    "import cv2\n",
    "from matplotlib import pyplot as plt\n",
    "\n",
    "# 이미지 경로를 리스트로 정의합니다. 실제 경로로 교체해야 합니다.\n",
    "image_paths = [\"/home/studio-lab-user/taeyoonkim-ds/Object_Localisation_BP/images/image2.png\",\n",
    "               \"/home/studio-lab-user/taeyoonkim-ds/Object_Localisation_BP/images/image4.png\",\n",
    "               \"/home/studio-lab-user/taeyoonkim-ds/Object_Localisation_BP/images/image5.png\",\n",
    "               \"/home/studio-lab-user/taeyoonkim-ds/Object_Localisation_BP/images/image6.png\",\n",
    "               \"/home/studio-lab-user/taeyoonkim-ds/Object_Localisation_BP/images/image7.png\"\n",
    "]\n",
    "\n",
    "# 이미지를 로드하고 리스트에 저장합니다.\n",
    "images = [cv2.imread(img_path) for img_path in image_paths]\n",
    "\n",
    "# 이미지를 RGB 포맷으로 변환합니다. OpenCV는 BGR 포맷을 사용합니다.\n",
    "images = [cv2.cvtColor(img, cv2.COLOR_BGR2RGB) for img in images]\n",
    "\n",
    "# 2행 4열의 그리드로 이미지를 표시합니다.\n",
    "fig, axs = plt.subplots(2, 4, figsize=(20, 10)) # figsize는 적절하게 조정할 수 있습니다.\n",
    "\n",
    "for i, ax in enumerate(axs.flat):\n",
    "    ax.imshow(images[i])\n",
    "    ax.axis('off') # 축을 숨깁니다.\n",
    "\n",
    "plt.show()\n"
   ]
  }
 ],
 "metadata": {
  "kernelspec": {
   "display_name": "default:Python",
   "language": "python",
   "name": "conda-env-default-py"
  },
  "language_info": {
   "codemirror_mode": {
    "name": "ipython",
    "version": 3
   },
   "file_extension": ".py",
   "mimetype": "text/x-python",
   "name": "python",
   "nbconvert_exporter": "python",
   "pygments_lexer": "ipython3",
   "version": "3.9.16"
  }
 },
 "nbformat": 4,
 "nbformat_minor": 4
}
